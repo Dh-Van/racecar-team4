{
 "cells": [
  {
   "cell_type": "markdown",
   "metadata": {},
   "source": [
    "# Lab 4 Exploration: LIDAR\n",
    "\n",
    "In this notebook, we will learn how to use the racecar's LIDAR to measure distance and find closest points.\n",
    "\n",
    "Throughout this notebook, **<font style=\"color:red\">text in bold red</font>** indicates a change you must make to the following code block before running it.\n",
    "\n",
    "\n",
    "## Table of Contents\n",
    "1. [Getting Started](#GettingStarted)\n",
    "1. [Gathering LIDAR Data](#GatheringLidarData)\n",
    "1. [Visualizing LIDAR Data](#VisualizingLidarData)\n",
    "1. [Handling Noise](#HandlingNoise)\n",
    "1. [Closest Point](#ClosestPoint)"
   ]
  },
  {
   "cell_type": "markdown",
   "metadata": {},
   "source": [
    "<a id=\"GettingStarted\"></a>\n",
    "## 1. Getting Started\n",
    "\n",
    "**<font style=\"color:red\">If you are running the car in RacecarSim, set `isSimulation` to `True`</font>**. Leave `isSimulation` `False` if you are using a physical car."
   ]
  },
  {
   "cell_type": "code",
   "execution_count": 1,
   "metadata": {},
   "outputs": [],
   "source": [
    "# TODO: Update isSimulation if necessary\n",
    "isSimulation = True"
   ]
  },
  {
   "cell_type": "markdown",
   "metadata": {},
   "source": [
    "Next, we will import the necessary libraries for this notebook, including Python libraries (`cv`, `numpy`, etc.) and the Racecar library (`racecar_core`)."
   ]
  },
  {
   "cell_type": "code",
   "execution_count": 2,
   "metadata": {},
   "outputs": [],
   "source": [
    "# Import Python libraries\n",
    "import math\n",
    "import cv2 as cv\n",
    "import numpy as np\n",
    "import matplotlib.pyplot as plt\n",
    "import ipywidgets as widgets\n",
    "import statistics\n",
    "from nptyping import NDArray\n",
    "from typing import Any, Tuple, List, Optional\n",
    "\n",
    "# Import Racecar library\n",
    "import sys\n",
    "sys.path.append(\"../../library\")\n",
    "import racecar_core\n",
    "import racecar_utils as rc_utils"
   ]
  },
  {
   "cell_type": "markdown",
   "metadata": {},
   "source": [
    "Finally, we will create a racecar object.  If this step fails, make sure that `isSimulation` has the correct value."
   ]
  },
  {
   "cell_type": "code",
   "execution_count": 3,
   "metadata": {},
   "outputs": [
    {
     "name": "stdout",
     "output_type": "stream",
     "text": [
      "\u001b[95m>> Racecar created with the following options:\n",
      "    Simulation (-s): [True]\n",
      "    Headless (-h): [False]\n",
      "    Initialize with display (-d): [False]\u001b[00m\n"
     ]
    }
   ],
   "source": [
    "# Create Racecar\n",
    "rc = racecar_core.create_racecar(isSimulation)"
   ]
  },
  {
   "cell_type": "markdown",
   "metadata": {},
   "source": [
    "<a id=\"GatheringLidarData\"></a>\n",
    "## 2. Gathering LIDAR Data\n",
    "The racecar's LIDAR data is stored as a one-dimensional numpy array of 720 distance measurements.  Each measurement is 1/2 of a degree apart, ordered clockwise, with the 0th entry directly in front of the car.\n",
    "\n",
    "In Jupyter Notebook, we can access the car's LIDAR data using `rc.lidar.get_samples_async()`.  Outside of Jupyter Notebook, we must use `rc.lidar.get_samples()` instead."
   ]
  },
  {
   "cell_type": "code",
   "execution_count": 4,
   "metadata": {
    "scrolled": false
   },
   "outputs": [],
   "source": [
    "# Access the current LIDAR scan\n",
    "scan = rc.lidar.get_samples_async()"
   ]
  },
  {
   "cell_type": "markdown",
   "metadata": {},
   "source": [
    "Let's access the measurements directly in front of and behind the car."
   ]
  },
  {
   "cell_type": "code",
   "execution_count": 5,
   "metadata": {},
   "outputs": [
    {
     "name": "stdout",
     "output_type": "stream",
     "text": [
      "Forward distance: 60.03 cm\n",
      "Rear distance: 75.37 cm\n",
      "[60.033413, 58.494827, 60.730827, 58.093742, 59.48639, 59.824028, 58.18375, 60.481735, 59.16994, 60.500965, 59.18238, 60.591854, 59.33058, 62.21177, 62.5659, 60.655838, 62.195206, 62.433754, 62.808224, 62.671883, 65.427216, 63.017445, 64.735725, 65.81544, 67.21955, 67.75678, 71.62505, 69.64728, 74.99444, 162.92703, 158.54657, 162.10889, 158.46162, 154.04732, 153.92477, 146.95367, 150.79678, 151.22717, 146.40468, 144.47508, 139.87027, 139.48837, 136.88861, 142.3394, 133.8526, 137.586, 135.56024, 108.165504, 105.93053, 104.580086, 97.60403, 104.843025, 100.27292, 99.11389, 99.39859, 95.19738, 100.840675, 96.480644, 95.07921, 95.18501, 94.15557, 91.78735, 91.71912, 92.58892, 93.99951, 93.79414, 93.74551, 99.0216, 97.19616, 97.55954, 101.22139, 100.84503, 103.34701, 101.4198, 105.04734, 104.56107, 105.68602, 104.587555, 103.917725, 103.16982, 105.13078, 102.79904, 101.38623, 100.65547, 99.76043, 102.07675, 98.28002, 103.06954, 100.19292, 98.47073, 97.792244, 96.299255, 99.42557, 95.34738, 99.426506, 96.261604, 97.61943, 96.52528, 95.14782, 92.480515, 94.66544, 91.573296, 93.948685, 92.91085, 94.632454, 92.84009, 90.71742, 91.10632, 90.18312, 93.0209, 91.8373, 91.934395, 94.80875, 90.97623, 92.77607, 90.34966, 89.45097, 92.057846, 89.360954, 88.33744, 90.89366, 89.623474, 88.4607, 88.164215, 89.72429, 92.51095, 86.227715, 87.80746, 89.94479, 88.643875, 85.043884, 89.03398, 89.159096, 86.389206, 89.65059, 88.16151, 88.39547, 86.57103, 91.0148, 87.85529, 86.05709, 87.88219, 87.85808, 90.162796, 87.2336, 86.53342, 87.703285, 87.192474, 88.04918, 87.30832, 88.690506, 90.46193, 86.05647, 88.695946, 93.22082, 89.78204, 89.691055, 89.04034, 89.922455, 87.73549, 85.64429, 89.62983, 89.38004, 88.01667, 90.48198, 87.93056, 90.26859, 90.60283, 91.81645, 84.71439, 87.84477, 89.73421, 89.360054, 91.47262, 91.30508, 95.72608, 87.570114, 91.77597, 93.5592, 92.96384, 93.82654, 90.082794, 96.234886, 92.55783, 95.392624, 90.95276, 95.078285, 94.74091, 95.90524, 95.549225, 94.91196, 99.09298, 95.80313, 97.014465, 95.46884, 93.98363, 97.14819, 98.75228, 101.1794, 96.480774, 103.0659, 99.506386, 97.209404, 98.711365, 100.928795, 99.72678, 101.04481, 102.93295, 105.563286, 106.39987, 105.690094, 107.40012, 108.80344, 107.09447, 105.84046, 114.19151, 106.326324, 110.224976, 108.82564, 109.92157, 108.92702, 105.730354, 107.8769, 114.428474, 107.11137, 109.56249, 109.73741, 106.437874, 112.17966, 108.44937, 108.90961, 108.743744, 107.790085, 110.187164, 105.17171, 107.39679, 109.66696, 106.04499, 108.21515, 103.15095, 106.42102, 103.13426, 99.764336, 103.99033, 103.203384, 103.671616, 103.128555, 96.70884, 97.17314, 97.346634, 98.86555, 96.5557, 97.15844, 98.710365, 93.03455, 94.71124, 96.63106, 97.46831, 92.29367, 90.96012, 92.45442, 90.27542, 89.81596, 91.6429, 92.37462, 87.73796, 89.76612, 86.35541, 88.10418, 91.10445, 91.08456, 89.795425, 84.882545, 88.72855, 88.22067, 87.10854, 86.16008, 83.858826, 82.84102, 84.29066, 84.52614, 85.008385, 81.36258, 81.62723, 82.629745, 83.03635, 81.09828, 81.187126, 81.03456, 80.753265, 82.76794, 81.641205, 82.48793, 79.30562, 81.191574, 80.818634, 81.592834, 77.92556, 78.592674, 80.74156, 78.96703, 77.52853, 78.23974, 82.91985, 79.07116, 79.1425, 79.18235, 80.3241, 75.71458, 78.87177, 76.40263, 79.21809, 81.37404, 77.06916, 76.851295, 76.148506, 73.354935, 78.85832, 77.59275, 77.34244, 79.5647, 76.01544, 77.848885, 77.69251, 75.37003, 77.12152, 80.425385, 77.29721, 76.44507, 75.971596, 79.49271, 77.94051, 77.92304, 74.96323, 76.38192, 77.54428, 77.82081, 79.806, 79.16034, 78.967316, 76.78415, 78.321434, 77.993355, 80.61646, 82.22081, 78.13341, 77.629135, 79.940994, 78.56957, 81.20205, 80.55365, 83.69346, 80.65499, 80.315315, 81.008606, 83.78033, 79.3724, 81.57737, 82.14965, 81.965294, 82.249695, 80.162704, 80.55821, 79.82757, 82.43303, 86.72623, 82.565956, 85.119934, 83.790245, 85.51576, 86.59219, 84.966446, 84.60913, 82.76738, 84.26268, 86.13011, 87.0392, 88.77914, 87.85507, 90.13249, 88.94906, 90.57011, 93.42617, 89.900635, 89.50218, 88.22443, 92.05827, 87.89395, 90.85408, 92.57704, 95.615616, 89.65211, 93.28823, 92.115265, 92.57058, 89.034966, 88.31627, 92.175835, 89.140625, 91.481766, 89.39145, 89.353065, 87.43744, 90.05765, 86.58835, 88.7582, 88.427284, 87.366806, 85.51471, 86.28519, 87.85037, 83.20653, 85.46875, 87.594894, 85.893005, 84.24078, 85.249695, 84.7432, 85.094444, 83.05587, 82.44447, 85.115364, 85.51993, 84.37405, 82.475845, 84.242386, 82.19979, 81.142746, 81.82044, 80.53424, 86.60012, 82.98872, 84.04931, 82.248924, 84.75864, 85.29857, 80.48715, 84.829636, 82.49217, 86.08595, 84.393456, 83.947845, 82.849335, 83.13333, 83.29612, 81.83212, 82.88051, 82.65113, 84.07472, 84.22804, 83.3262, 85.06296, 84.072266, 83.96729, 85.91901, 83.130356, 85.38721, 85.60959, 80.90038, 84.20648, 80.35965, 85.18614, 81.10847, 82.47596, 81.09305, 87.409805, 87.64031, 84.902466, 83.34969, 84.85328, 83.71688, 81.61174, 87.84842, 87.56378, 84.44042, 87.35062, 85.19208, 88.2029, 88.16715, 85.94673, 87.96341, 86.416695, 83.60122, 88.846504, 88.96777, 90.02209, 91.617805, 86.60419, 91.217186, 91.703865, 90.73244, 89.80452, 91.2617, 89.5462, 91.67065, 91.05417, 90.99186, 92.99068, 91.60347, 92.12142, 93.48473, 93.51791, 96.720665, 95.60868, 98.25734, 97.18761, 96.22267, 100.57799, 101.03634, 98.20781, 98.38785, 99.58418, 100.26246, 102.007515, 103.924644, 101.6761, 100.92418, 103.30972, 102.67998, 101.837524, 109.670906, 104.60519, 106.16675, 107.53499, 107.53773, 109.35811, 106.249886, 111.06251, 114.521835, 111.36104, 113.42373, 114.39525, 117.14758, 115.43503, 118.04948, 116.62213, 121.169846, 117.80278, 120.29045, 122.216866, 121.02978, 121.089485, 124.481094, 125.437584, 129.58604, 131.32243, 130.29573, 135.66035, 128.73921, 138.06665, 133.74387, 141.29651, 138.89536, 142.66226, 145.73927, 149.8482, 149.26337, 148.35413, 149.88147, 153.6865, 156.63654, 155.0066, 161.32173, 159.95525, 166.1766, 165.13925, 175.59631, 172.79935, 177.73666, 178.43446, 187.5336, 187.06674, 186.69421, 193.69577, 195.18294, 206.15797, 203.10417, 207.59778, 208.14572, 214.58296, 215.03091, 228.79974, 232.71803, 232.22403, 238.7265, 246.65666, 254.22203, 266.3541, 268.05487, 275.6014, 41.578182, 40.50863, 39.80101, 40.765118, 39.19708, 41.34896, 41.521812, 41.32937, 41.792587, 74.87626, 71.93533, 69.47859, 70.700165, 68.13186, 67.19336, 63.996826, 63.213646, 66.370605, 65.49056, 63.514603, 63.312454, 63.240547, 62.724552, 61.721382, 63.26859, 61.56536, 62.687164, 62.570095, 60.0943, 60.44216, 58.54141, 61.298355, 62.941887, 60.89661, 59.7519, 61.205193, 61.44986]\n"
     ]
    }
   ],
   "source": [
    "# Calculate and show the forward and rear distances\n",
    "forward_distance = scan[0]\n",
    "print(f\"Forward distance: {forward_distance:.2f} cm\")\n",
    "\n",
    "rear_distance = scan[360]\n",
    "print(f\"Rear distance: {rear_distance:.2f} cm\")\n",
    "print([i for i in scan if i > 0])"
   ]
  },
  {
   "cell_type": "code",
   "execution_count": null,
   "metadata": {},
   "outputs": [],
   "source": []
  },
  {
   "cell_type": "markdown",
   "metadata": {},
   "source": [
    "**<span style=\"color:red\">Set `left_distance` and `right_distance` in the following code block to the LIDAR measurements directly to the left and directly to the right of the car.</span>**"
   ]
  },
  {
   "cell_type": "code",
   "execution_count": 6,
   "metadata": {},
   "outputs": [
    {
     "name": "stdout",
     "output_type": "stream",
     "text": [
      "Left distance: 105.17 cm\n",
      "Right distance: 99.40 cm\n",
      "[60.033413, 58.494827, 60.730827, 58.093742, 59.48639, 59.824028, 58.18375, 60.481735, 59.16994, 60.500965, 59.18238, 60.591854, 59.33058, 62.21177, 62.5659, 60.655838, 62.195206, 62.433754, 62.808224, 62.671883, 65.427216, 63.017445, 64.735725, 65.81544, 67.21955, 67.75678, 71.62505, 69.64728, 74.99444, 162.92703, 158.54657, 162.10889, 158.46162, 154.04732, 153.92477, 146.95367, 150.79678, 151.22717, 146.40468, 144.47508, 139.87027, 139.48837, 136.88861, 142.3394, 133.8526, 137.586, 135.56024, 108.165504, 105.93053, 104.580086, 97.60403, 104.843025, 100.27292, 99.11389, 99.39859, 95.19738, 100.840675, 96.480644, 95.07921, 95.18501, 94.15557, 91.78735, 91.71912, 92.58892, 93.99951, 93.79414, 93.74551, 99.0216, 97.19616, 97.55954, 101.22139, 100.84503, 103.34701, 101.4198, 105.04734, 104.56107, 105.68602, 104.587555, 103.917725, 103.16982, 105.13078, 102.79904, 101.38623, 100.65547, 99.76043, 102.07675, 98.28002, 103.06954, 100.19292, 98.47073, 97.792244, 96.299255, 99.42557, 95.34738, 99.426506, 96.261604, 97.61943, 96.52528, 95.14782, 92.480515, 94.66544, 91.573296, 93.948685, 92.91085, 94.632454, 92.84009, 90.71742, 91.10632, 90.18312, 93.0209, 91.8373, 91.934395, 94.80875, 90.97623, 92.77607, 90.34966, 89.45097, 92.057846, 89.360954, 88.33744, 90.89366, 89.623474, 88.4607, 88.164215, 89.72429, 92.51095, 86.227715, 87.80746, 89.94479, 88.643875, 85.043884, 89.03398, 89.159096, 86.389206, 89.65059, 88.16151, 88.39547, 86.57103, 91.0148, 87.85529, 86.05709, 87.88219, 87.85808, 90.162796, 87.2336, 86.53342, 87.703285, 87.192474, 88.04918, 87.30832, 88.690506, 90.46193, 86.05647, 88.695946, 93.22082, 89.78204, 89.691055, 89.04034, 89.922455, 87.73549, 85.64429, 89.62983, 89.38004, 88.01667, 90.48198, 87.93056, 90.26859, 90.60283, 91.81645, 84.71439, 87.84477, 89.73421, 89.360054, 91.47262, 91.30508, 95.72608, 87.570114, 91.77597, 93.5592, 92.96384, 93.82654, 90.082794, 96.234886, 92.55783, 95.392624, 90.95276, 95.078285, 94.74091, 95.90524, 95.549225, 94.91196, 99.09298, 95.80313, 97.014465, 95.46884, 93.98363, 97.14819, 98.75228, 101.1794, 96.480774, 103.0659, 99.506386, 97.209404, 98.711365, 100.928795, 99.72678, 101.04481, 102.93295, 105.563286, 106.39987, 105.690094, 107.40012, 108.80344, 107.09447, 105.84046, 114.19151, 106.326324, 110.224976, 108.82564, 109.92157, 108.92702, 105.730354, 107.8769, 114.428474, 107.11137, 109.56249, 109.73741, 106.437874, 112.17966, 108.44937, 108.90961, 108.743744, 107.790085, 110.187164, 105.17171, 107.39679, 109.66696, 106.04499, 108.21515, 103.15095, 106.42102, 103.13426, 99.764336, 103.99033, 103.203384, 103.671616, 103.128555, 96.70884, 97.17314, 97.346634, 98.86555, 96.5557, 97.15844, 98.710365, 93.03455, 94.71124, 96.63106, 97.46831, 92.29367, 90.96012, 92.45442, 90.27542, 89.81596, 91.6429, 92.37462, 87.73796, 89.76612, 86.35541, 88.10418, 91.10445, 91.08456, 89.795425, 84.882545, 88.72855, 88.22067, 87.10854, 86.16008, 83.858826, 82.84102, 84.29066, 84.52614, 85.008385, 81.36258, 81.62723, 82.629745, 83.03635, 81.09828, 81.187126, 81.03456, 80.753265, 82.76794, 81.641205, 82.48793, 79.30562, 81.191574, 80.818634, 81.592834, 77.92556, 78.592674, 80.74156, 78.96703, 77.52853, 78.23974, 82.91985, 79.07116, 79.1425, 79.18235, 80.3241, 75.71458, 78.87177, 76.40263, 79.21809, 81.37404, 77.06916, 76.851295, 76.148506, 73.354935, 78.85832, 77.59275, 77.34244, 79.5647, 76.01544, 77.848885, 77.69251, 75.37003, 77.12152, 80.425385, 77.29721, 76.44507, 75.971596, 79.49271, 77.94051, 77.92304, 74.96323, 76.38192, 77.54428, 77.82081, 79.806, 79.16034, 78.967316, 76.78415, 78.321434, 77.993355, 80.61646, 82.22081, 78.13341, 77.629135, 79.940994, 78.56957, 81.20205, 80.55365, 83.69346, 80.65499, 80.315315, 81.008606, 83.78033, 79.3724, 81.57737, 82.14965, 81.965294, 82.249695, 80.162704, 80.55821, 79.82757, 82.43303, 86.72623, 82.565956, 85.119934, 83.790245, 85.51576, 86.59219, 84.966446, 84.60913, 82.76738, 84.26268, 86.13011, 87.0392, 88.77914, 87.85507, 90.13249, 88.94906, 90.57011, 93.42617, 89.900635, 89.50218, 88.22443, 92.05827, 87.89395, 90.85408, 92.57704, 95.615616, 89.65211, 93.28823, 92.115265, 92.57058, 89.034966, 88.31627, 92.175835, 89.140625, 91.481766, 89.39145, 89.353065, 87.43744, 90.05765, 86.58835, 88.7582, 88.427284, 87.366806, 85.51471, 86.28519, 87.85037, 83.20653, 85.46875, 87.594894, 85.893005, 84.24078, 85.249695, 84.7432, 85.094444, 83.05587, 82.44447, 85.115364, 85.51993, 84.37405, 82.475845, 84.242386, 82.19979, 81.142746, 81.82044, 80.53424, 86.60012, 82.98872, 84.04931, 82.248924, 84.75864, 85.29857, 80.48715, 84.829636, 82.49217, 86.08595, 84.393456, 83.947845, 82.849335, 83.13333, 83.29612, 81.83212, 82.88051, 82.65113, 84.07472, 84.22804, 83.3262, 85.06296, 84.072266, 83.96729, 85.91901, 83.130356, 85.38721, 85.60959, 80.90038, 84.20648, 80.35965, 85.18614, 81.10847, 82.47596, 81.09305, 87.409805, 87.64031, 84.902466, 83.34969, 84.85328, 83.71688, 81.61174, 87.84842, 87.56378, 84.44042, 87.35062, 85.19208, 88.2029, 88.16715, 85.94673, 87.96341, 86.416695, 83.60122, 88.846504, 88.96777, 90.02209, 91.617805, 86.60419, 91.217186, 91.703865, 90.73244, 89.80452, 91.2617, 89.5462, 91.67065, 91.05417, 90.99186, 92.99068, 91.60347, 92.12142, 93.48473, 93.51791, 96.720665, 95.60868, 98.25734, 97.18761, 96.22267, 100.57799, 101.03634, 98.20781, 98.38785, 99.58418, 100.26246, 102.007515, 103.924644, 101.6761, 100.92418, 103.30972, 102.67998, 101.837524, 109.670906, 104.60519, 106.16675, 107.53499, 107.53773, 109.35811, 106.249886, 111.06251, 114.521835, 111.36104, 113.42373, 114.39525, 117.14758, 115.43503, 118.04948, 116.62213, 121.169846, 117.80278, 120.29045, 122.216866, 121.02978, 121.089485, 124.481094, 125.437584, 129.58604, 131.32243, 130.29573, 135.66035, 128.73921, 138.06665, 133.74387, 141.29651, 138.89536, 142.66226, 145.73927, 149.8482, 149.26337, 148.35413, 149.88147, 153.6865, 156.63654, 155.0066, 161.32173, 159.95525, 166.1766, 165.13925, 175.59631, 172.79935, 177.73666, 178.43446, 187.5336, 187.06674, 186.69421, 193.69577, 195.18294, 206.15797, 203.10417, 207.59778, 208.14572, 214.58296, 215.03091, 228.79974, 232.71803, 232.22403, 238.7265, 246.65666, 254.22203, 266.3541, 268.05487, 275.6014, 41.578182, 40.50863, 39.80101, 40.765118, 39.19708, 41.34896, 41.521812, 41.32937, 41.792587, 74.87626, 71.93533, 69.47859, 70.700165, 68.13186, 67.19336, 63.996826, 63.213646, 66.370605, 65.49056, 63.514603, 63.312454, 63.240547, 62.724552, 61.721382, 63.26859, 61.56536, 62.687164, 62.570095, 60.0943, 60.44216, 58.54141, 61.298355, 62.941887, 60.89661, 59.7519, 61.205193, 61.44986]\n",
      "720\n"
     ]
    }
   ],
   "source": [
    "# TODO: Calculate and show the left and right distances\n",
    "left_distance = scan[270]\n",
    "print(f\"Left distance: {left_distance:.2f} cm\")\n",
    "\n",
    "right_distance = scan[90]\n",
    "print(f\"Right distance: {right_distance:.2f} cm\")\n",
    "print([i for i in scan if i > 0])\n",
    "print(len(scan))"
   ]
  },
  {
   "cell_type": "markdown",
   "metadata": {},
   "source": [
    "<a id=\"VisualizingLidarData\"></a>\n",
    "## 3. Visualizing LIDAR data\n",
    "\n",
    "In this section, we will write a function to convert LIDAR data into a color image providing a top-down view of the data.  We will use the following approach:\n",
    "\n",
    "1. Create an all-black BGR image (a 3D numpy array ordered rows, columns, color channels) of the specified radius.\n",
    "1. Denote the car by drawing a green dot at the center of the image with [`rc_utils.draw_circle`](https://mitll-racecar.readthedocs.io/en/latest/racecar_utils.html#racecar_utils.draw_circle).\n",
    "1. For each LIDAR sample, set the corresponding pixel to red. We can calculate the angle of each sample based on its index in the scan.  By scaling the distance such that `max_range` is the edge of the image, we can convert this angle and distance into a row and column in the image.\n",
    "1. `highlighted_samples` contains a list of `(angle, distance)` measurements that we wish to highlight with light blue dots. These can be plotted similarly to the samples in the previous step and drawn with `rc_utils.draw_circle`.\n",
    "1. Display the color image in the Jupyter Notebook with Matplotlib.\n",
    "\n",
    "The result should look similar to the LIDAR visualization shown in the left sidebar of RacecarSim.\n",
    "\n",
    "**<span style=\"color:red\">Finish implementing this approach in the `show_lidar` function below.</span>**"
   ]
  },
  {
   "cell_type": "code",
   "execution_count": 7,
   "metadata": {},
   "outputs": [],
   "source": [
    "def show_lidar(\n",
    "    scan: NDArray[Any, np.float32],\n",
    "    radius: int = 128,\n",
    "    max_range: int = 400,\n",
    "    highlighted_samples: List[Tuple[int, int]] = []\n",
    ") -> None:\n",
    "    \"\"\"\n",
    "    Displays a visual representation of a LIDAR scan in Jupyter Notebook.\n",
    "    \n",
    "    Args:\n",
    "        scan: The LIDAR scan to show.\n",
    "        radius: Half of the width and height (in pixels) of the generated image.\n",
    "        max_range: The farthest distance to show in the image in cm. Any sample past this range is not shown.\n",
    "        highlighted_samples: A list of samples in (angle, distance) format to show as a blue dot.\n",
    "    \"\"\"    \n",
    "    # Create a square black image with the requested radius\n",
    "    image = np.zeros((2 * max_range, 2 * max_range, 3), np.uint8, \"C\")\n",
    "    num_samples: int = len(scan)\n",
    "\n",
    "    # TODO: Draw a green dot at the center of the image to denote the car\n",
    "    # Hint: Use rc_utils.draw_circle\n",
    "    CAR_DOT_RADIUS = 2\n",
    "    rc_utils.draw_circle(image, (max_range, max_range), (0, 255, 0), radius=10)\n",
    "\n",
    "        \n",
    "    # TODO: Draw a red pixel for each non-zero sample less than max_range\n",
    "    for i in range(len(scan)):\n",
    "        if scan[i] < int(max_range) and scan[i] > 0:\n",
    "            x = int(scan[i] * math.cos(math.radians(i / 2)) + max_range)\n",
    "            y = int(scan[i] * math.sin(math.radians(i / 2)) + max_range)\n",
    "\n",
    "            rc_utils.draw_circle(image, (-1 * (x - max_range * 2), y), (0, 0, 255), radius=10)\n",
    "\n",
    "    \n",
    "    # TODO: Draw a light blue dot for each point in highlighted_samples\n",
    "    # Hint: Use rc_utils.draw_circle\n",
    "    HIGHLIGHT_DOT_RADIUS = 2\n",
    "    for i in range(len(highlighted_samples)):\n",
    "        if highlighted_samples[i][1] < int(max_range) and highlighted_samples[i][1] > 0:\n",
    "            x = int(highlighted_samples[i][1] * math.cos(math.radians(highlighted_samples[i][0])) + max_range)\n",
    "            y = int(highlighted_samples[i][1] * math.sin(math.radians(highlighted_samples[i][0])) + max_range)\n",
    "\n",
    "            rc_utils.draw_circle(image, (-1 * (x - max_range * 2), y), (255, 220, 80), radius=5)\n",
    "\n",
    "\n",
    "    # Show the image with Matplotlib\n",
    "    plt.imshow(cv.cvtColor(image, cv.COLOR_BGR2RGB))\n",
    "    plt.show()"
   ]
  },
  {
   "cell_type": "markdown",
   "metadata": {},
   "source": [
    "Let's use this function to visualize our LIDAR scan."
   ]
  },
  {
   "cell_type": "code",
   "execution_count": 8,
   "metadata": {
    "scrolled": true
   },
   "outputs": [
    {
     "data": {
      "image/png": "[encoded data removed]",
      "text/plain": [
       "<Figure size 432x288 with 1 Axes>"
      ]
     },
     "metadata": {
      "needs_background": "light"
     },
     "output_type": "display_data"
    }
   ],
   "source": [
    "show_lidar(scan)"
   ]
  },
  {
   "cell_type": "code",
   "execution_count": 36,
   "metadata": {},
   "outputs": [],
   "source": [
    "def convolve(data, kernel):\n",
    "    out = data\n",
    "    for i in range(len(data)):\n",
    "        j_sum = 0\n",
    "        for j in range(len(kernel)):\n",
    "            if i + (j - len(kernel) // 2) >= 0 and i + (j - len(kernel) // 2) < len(data):\n",
    "                j_sum += data[i + (j - len(kernel) // 2)] * kernel[j]\n",
    "        out[i] = j_sum if j_sum > 100 else 0\n",
    "    return out\n"
   ]
  },
  {
   "cell_type": "code",
   "execution_count": 40,
   "metadata": {},
   "outputs": [],
   "source": [
    "def dcc(scan):\n",
    "    data1 = []\n",
    "    last = len(scan) - 1, scan[len(scan) - 1]\n",
    "    for i in range(len(scan)):\n",
    "        data1.append((i, math.sqrt((scan[i]**2)+(last[1]**2)-(2*scan[i]*last[1]*math.cos(math.radians(i/2)-math.radians(last[0]/2))))))\n",
    "        last = i, scan[i]\n",
    "    raw_distances = [i[1] for i in data1]\n",
    "    clean_distances = convolve(raw_distances, [-1, -2, -3, 5, -3, -2, -1])\n",
    "    # print(clean_distances)\n",
    "    zip_points = zip(clean_distances, range(len(clean_distances)))\n",
    "    points = [*zip_points]\n",
    "    #finds all windows\n",
    "    values = [i for i in points if i[0] > 0]\n",
    "    windows = []\n",
    "    last = values[-1][1]\n",
    "    for breakpoint in values:\n",
    "        windows.append((last, breakpoint[1]))\n",
    "        last = breakpoint[1] + 1\n",
    "    return windows"
   ]
  },
  {
   "cell_type": "code",
   "execution_count": 41,
   "metadata": {},
   "outputs": [],
   "source": [
    "D1 = 10\n",
    "D2 = 20\n",
    "# finds set of points approx a line, calls reduced hough to find line\n",
    "def reholt(window, distances):\n",
    "    base = 0\n",
    "    j = 0\n",
    "    n = len(distances)\n",
    "    lines = []\n",
    "    while j < n:\n",
    "        j += 1\n",
    "        #get distance bw Pb and Pj -> distance\n",
    "        distance = pDist((window[0] + base, distances[base]), (window[0] + j, distances[j]))\n",
    "        if distance > D1:\n",
    "            #make a line from points Pb and Pj -> R\n",
    "            R = makeLine((window[0] + base, distances[base]), (window[0] + j, distances[j]))\n",
    "        # finds all points < D2 from R\n",
    "        for k in range(j, n):\n",
    "            #get distance bw Pk and R -> distance2\n",
    "            distance2 = lDist((window[0] + k, distances[k]), R)\n",
    "            if distance2 > D2:\n",
    "                #find line of best fit using R as approx. with points [Pb - Pk]\n",
    "                line = rht(data data data)\n",
    "                lines.append(line)\n",
    "    \n",
    "    #merge colinears?\n",
    "    return lines\n",
    "\n",
    "# finds distance bw 2 points, (angle (0-720), distance)\n",
    "def pDist(P1, P2):\n",
    "    return math.sqrt((P1[1]**2)+(P2[1]**2)-(2*P1[1]*P2[1]*math.cos(math.radians((P1[0] - P2[0])/2))))\n",
    "\n",
    "# finds distance bw a point (angle (0-720), distance) and a line (angle(0-720), distance)\n",
    "def lDist(P, line):\n",
    "    return (P[1] * math.cos(math.radians((P[0]-line[0])/2))) - line[1]\n",
    "\n",
    "# makes a line with form (angle (0-720), distance) given two points (angle, distance)\n",
    "def makeLine(P1, P2):\n",
    "    cartPoints = []\n",
    "    for p in (P1, P2):\n",
    "        cartPoints.append(p[1] * math.cos(math.radians(p[0] / 2)), p[1] * math.sin(math.radians(p[0] / 2)))\n",
    "    m = (cartPoints[0][1] - cartPoints[1][1]) / (cartPoints[0][0] - cartPoints[1][0])\n",
    "    theta = math.atan(-1 / m)\n",
    "    r = cartPoints[0][0] * math.cos(theta) + cartPoints[0][1] * math.sin(theta)\n",
    "    angle = math.degrees(theta) * 2\n",
    "    return (angle, r)\n",
    "\n",
    "        \n"
   ]
  },
  {
   "cell_type": "code",
   "execution_count": 47,
   "metadata": {},
   "outputs": [
    {
     "name": "stdout",
     "output_type": "stream",
     "text": [
      "[(692, 29), (30, 65), (66, 83), (84, 626), (627, 635), (636, 692)]\n",
      "[74.87626  71.93533  69.47859  70.700165 68.13186  67.19336  63.996826\n",
      " 63.213646 66.370605 65.49056  63.514603 63.312454 63.240547 62.724552\n",
      " 61.721382 63.26859  61.56536  62.687164 62.570095 60.0943   60.44216\n",
      " 58.54141  61.298355 62.941887 60.89661  59.7519   61.205193 61.44986\n",
      " 60.033413 58.494827 60.730827 58.093742 59.48639  59.824028 58.18375\n",
      " 60.481735 59.16994  60.500965 59.18238  60.591854 59.33058  62.21177\n",
      " 62.5659   60.655838 62.195206 62.433754 62.808224 62.671883 65.427216\n",
      " 63.017445 64.735725 65.81544  67.21955  67.75678  71.62505  69.64728\n",
      " 74.99444 ]\n",
      "[0. 0. 0. 0. 0. 0. 0. 0. 0. 0. 0. 0. 0. 0. 0. 0. 0. 0. 0. 0. 0. 0. 0. 0.\n",
      " 0. 0. 0. 0. 0. 0. 0. 0. 0. 0. 0.]\n",
      "[158.54657 162.10889 158.46162 154.04732 153.92477 146.95367 150.79678\n",
      " 151.22717 146.40468 144.47508 139.87027 139.48837 136.88861 142.3394\n",
      " 133.8526  137.586   135.56024]\n",
      "[105.93053  104.580086  97.60403  104.843025 100.27292   99.11389\n",
      "  99.39859   95.19738  100.840675  96.480644  95.07921   95.18501\n",
      "  94.15557   91.78735   91.71912   92.58892   93.99951   93.79414\n",
      "  93.74551   99.0216    97.19616   97.55954  101.22139  100.84503\n",
      " 103.34701  101.4198   105.04734  104.56107  105.68602  104.587555\n",
      " 103.917725 103.16982  105.13078  102.79904  101.38623  100.65547\n",
      "  99.76043  102.07675   98.28002  103.06954  100.19292   98.47073\n",
      "  97.792244  96.299255  99.42557   95.34738   99.426506  96.261604\n",
      "  97.61943   96.52528   95.14782   92.480515  94.66544   91.573296\n",
      "  93.948685  92.91085   94.632454  92.84009   90.71742   91.10632\n",
      "  90.18312   93.0209    91.8373    91.934395  94.80875   90.97623\n",
      "  92.77607   90.34966   89.45097   92.057846  89.360954  88.33744\n",
      "  90.89366   89.623474  88.4607    88.164215  89.72429   92.51095\n",
      "  86.227715  87.80746   89.94479   88.643875  85.043884  89.03398\n",
      "  89.159096  86.389206  89.65059   88.16151   88.39547   86.57103\n",
      "  91.0148    87.85529   86.05709   87.88219   87.85808   90.162796\n",
      "  87.2336    86.53342   87.703285  87.192474  88.04918   87.30832\n",
      "  88.690506  90.46193   86.05647   88.695946  93.22082   89.78204\n",
      "  89.691055  89.04034   89.922455  87.73549   85.64429   89.62983\n",
      "  89.38004   88.01667   90.48198   87.93056   90.26859   90.60283\n",
      "  91.81645   84.71439   87.84477   89.73421   89.360054  91.47262\n",
      "  91.30508   95.72608   87.570114  91.77597   93.5592    92.96384\n",
      "  93.82654   90.082794  96.234886  92.55783   95.392624  90.95276\n",
      "  95.078285  94.74091   95.90524   95.549225  94.91196   99.09298\n",
      "  95.80313   97.014465  95.46884   93.98363   97.14819   98.75228\n",
      " 101.1794    96.480774 103.0659    99.506386  97.209404  98.711365\n",
      " 100.928795  99.72678  101.04481  102.93295  105.563286 106.39987\n",
      " 105.690094 107.40012  108.80344  107.09447  105.84046  114.19151\n",
      " 106.326324 110.224976 108.82564  109.92157  108.92702  105.730354\n",
      " 107.8769   114.428474 107.11137  109.56249  109.73741  106.437874\n",
      " 112.17966  108.44937  108.90961  108.743744 107.790085 110.187164\n",
      " 105.17171  107.39679  109.66696  106.04499  108.21515  103.15095\n",
      " 106.42102  103.13426   99.764336 103.99033  103.203384 103.671616\n",
      " 103.128555  96.70884   97.17314   97.346634  98.86555   96.5557\n",
      "  97.15844   98.710365  93.03455   94.71124   96.63106   97.46831\n",
      "  92.29367   90.96012   92.45442   90.27542   89.81596   91.6429\n",
      "  92.37462   87.73796   89.76612   86.35541   88.10418   91.10445\n",
      "  91.08456   89.795425  84.882545  88.72855   88.22067   87.10854\n",
      "  86.16008   83.858826  82.84102   84.29066   84.52614   85.008385\n",
      "  81.36258   81.62723   82.629745  83.03635   81.09828   81.187126\n",
      "  81.03456   80.753265  82.76794   81.641205  82.48793   79.30562\n",
      "  81.191574  80.818634  81.592834  77.92556   78.592674  80.74156\n",
      "  78.96703   77.52853   78.23974   82.91985   79.07116   79.1425\n",
      "  79.18235   80.3241    75.71458   78.87177   76.40263   79.21809\n",
      "  81.37404   77.06916   76.851295  76.148506  73.354935  78.85832\n",
      "  77.59275   77.34244   79.5647    76.01544   77.848885  77.69251\n",
      "  75.37003   77.12152   80.425385  77.29721   76.44507   75.971596\n",
      "  79.49271   77.94051   77.92304   74.96323   76.38192   77.54428\n",
      "  77.82081   79.806     79.16034   78.967316  76.78415   78.321434\n",
      "  77.993355  80.61646   82.22081   78.13341   77.629135  79.940994\n",
      "  78.56957   81.20205   80.55365   83.69346   80.65499   80.315315\n",
      "  81.008606  83.78033   79.3724    81.57737   82.14965   81.965294\n",
      "  82.249695  80.162704  80.55821   79.82757   82.43303   86.72623\n",
      "  82.565956  85.119934  83.790245  85.51576   86.59219   84.966446\n",
      "  84.60913   82.76738   84.26268   86.13011   87.0392    88.77914\n",
      "  87.85507   90.13249   88.94906   90.57011   93.42617   89.900635\n",
      "  89.50218   88.22443   92.05827   87.89395   90.85408   92.57704\n",
      "  95.615616  89.65211   93.28823   92.115265  92.57058   89.034966\n",
      "  88.31627   92.175835  89.140625  91.481766  89.39145   89.353065\n",
      "  87.43744   90.05765   86.58835   88.7582    88.427284  87.366806\n",
      "  85.51471   86.28519   87.85037   83.20653   85.46875   87.594894\n",
      "  85.893005  84.24078   85.249695  84.7432    85.094444  83.05587\n",
      "  82.44447   85.115364  85.51993   84.37405   82.475845  84.242386\n",
      "  82.19979   81.142746  81.82044   80.53424   86.60012   82.98872\n",
      "  84.04931   82.248924  84.75864   85.29857   80.48715   84.829636\n",
      "  82.49217   86.08595   84.393456  83.947845  82.849335  83.13333\n",
      "  83.29612   81.83212   82.88051   82.65113   84.07472   84.22804\n",
      "  83.3262    85.06296   84.072266  83.96729   85.91901   83.130356\n",
      "  85.38721   85.60959   80.90038   84.20648   80.35965   85.18614\n",
      "  81.10847   82.47596   81.09305   87.409805  87.64031   84.902466\n",
      "  83.34969   84.85328   83.71688   81.61174   87.84842   87.56378\n",
      "  84.44042   87.35062   85.19208   88.2029    88.16715   85.94673\n",
      "  87.96341   86.416695  83.60122   88.846504  88.96777   90.02209\n",
      "  91.617805  86.60419   91.217186  91.703865  90.73244   89.80452\n",
      "  91.2617    89.5462    91.67065   91.05417   90.99186   92.99068\n",
      "  91.60347   92.12142   93.48473   93.51791   96.720665  95.60868\n",
      "  98.25734   97.18761   96.22267  100.57799  101.03634   98.20781\n",
      "  98.38785   99.58418  100.26246  102.007515 103.924644 101.6761\n",
      " 100.92418  103.30972  102.67998  101.837524 109.670906 104.60519\n",
      " 106.16675  107.53499  107.53773  109.35811  106.249886 111.06251\n",
      " 114.521835 111.36104  113.42373  114.39525  117.14758  115.43503\n",
      " 118.04948  116.62213  121.169846 117.80278  120.29045  122.216866\n",
      " 121.02978  121.089485 124.481094 125.437584 129.58604  131.32243\n",
      " 130.29573  135.66035  128.73921  138.06665  133.74387  141.29651\n",
      " 138.89536  142.66226  145.73927  149.8482   149.26337  148.35413\n",
      " 149.88147  153.6865   156.63654  155.0066   161.32173  159.95525\n",
      " 166.1766   165.13925  175.59631  172.79935  177.73666  178.43446\n",
      " 187.5336   187.06674  186.69421  193.69577  195.18294  206.15797\n",
      " 203.10417  207.59778  208.14572  214.58296  215.03091  228.79974\n",
      " 232.71803  232.22403  238.7265   246.65666  254.22203  266.3541\n",
      " 268.05487  275.6014  ]\n",
      "[40.50863  39.80101  40.765118 39.19708  41.34896  41.521812 41.32937\n",
      " 41.792587]\n",
      "[0. 0. 0. 0. 0. 0. 0. 0. 0. 0. 0. 0. 0. 0. 0. 0. 0. 0. 0. 0. 0. 0. 0. 0.\n",
      " 0. 0. 0. 0. 0. 0. 0. 0. 0. 0. 0. 0. 0. 0. 0. 0. 0. 0. 0. 0. 0. 0. 0. 0.\n",
      " 0. 0. 0. 0. 0. 0. 0. 0.]\n"
     ]
    },
    {
     "data": {
      "image/png": "[encoded data removed]",
      "text/plain": [
       "<Figure size 432x288 with 1 Axes>"
      ]
     },
     "metadata": {
      "needs_background": "light"
     },
     "output_type": "display_data"
    }
   ],
   "source": [
    "def graphDistance(scan):\n",
    "    #DCC\n",
    "    windows = dcc(scan)\n",
    "    print(windows)\n",
    "    for window in windows:\n",
    "        low = window[0]\n",
    "        high = window[1]\n",
    "        distances = np.roll(scan, 720 - low)[:high - low]\n",
    "        print(distances)\n",
    "        # reholt(window, distances)\n",
    "    \n",
    "        \n",
    "        \n",
    "    #REHOLT\n",
    "    \n",
    "\n",
    "graphDistance(scan)\n",
    "show_lidar(scan)"
   ]
  },
  {
   "cell_type": "markdown",
   "metadata": {},
   "source": [
    "For now, we will test out the `highlighted_samples` feature by highlighting points 100 cm in each cardinal direction."
   ]
  },
  {
   "cell_type": "code",
   "execution_count": 13,
   "metadata": {},
   "outputs": [
    {
     "data": {
      "image/png": "[encoded data removed]",
      "text/plain": [
       "<Figure size 432x288 with 1 Axes>"
      ]
     },
     "metadata": {
      "needs_background": "light"
     },
     "output_type": "display_data"
    }
   ],
   "source": [
    "show_lidar(scan, highlighted_samples=[(0, 100), (90, 100), (180, 100), (270, 100)])"
   ]
  },
  {
   "cell_type": "markdown",
   "metadata": {},
   "source": [
    "<a id=\"HandlingNoise\"></a>\n",
    "## 4. Handling Noise\n",
    "\n",
    "Just like depth images, LIDAR data is also subject to noise and null values. To help combat this, we will once again average several neighboring samples across an *angle window* instead of relying on a single measurement. For example, if we want to measure the distance at 60 degrees with a 4 degree window angle, we would average all of the samples from 58 to 62 degrees.  To reduce the impact of null values, we should not consider any 0.0 measurement in our average.\n",
    "\n",
    "**<span style=\"color:red\">Implement this approach in `get_lidar_average_distance`</span>**. You may wish to use a Python [list comprehension](https://docs.python.org/3/tutorial/datastructures.html#list-comprehensions)."
   ]
  },
  {
   "cell_type": "code",
   "execution_count": 88,
   "metadata": {
    "scrolled": false
   },
   "outputs": [],
   "source": [
    "def get_lidar_average_distance(\n",
    "    scan: NDArray[Any, np.float32], angle: float, window_angle: float = 4\n",
    ") -> float:\n",
    "    \"\"\"\n",
    "    Finds the average distance of the object at a particular angle relative to the car.\n",
    "    \n",
    "    Args:\n",
    "        scan: The samples from a LIDAR scan\n",
    "        angle: The angle (in degrees) at which to measure distance, starting at 0\n",
    "            directly in front of the car and increasing clockwise.\n",
    "        window_angle: The number of degrees to consider around angle.\n",
    "\n",
    "    Returns:\n",
    "        The average distance of the points at angle in cm.\n",
    "\n",
    "    Note:\n",
    "        Ignores any samples with a value of 0.0 (no data).\n",
    "        Increasing window_angle reduces noise at the cost of reduced accuracy.\n",
    "    \"\"\"\n",
    "    # TODO: average the samples in the specified window\n",
    "    lower_bound = (angle * 2) - (window_angle * 2) // 2\n",
    "    if lower_bound < 0:\n",
    "        lower_bound += 720\n",
    "    upper_bound = (angle * 2) + (window_angle * 2) // 2\n",
    "    if lower_bound > 720:\n",
    "        lower_bound -= 720\n",
    "\n",
    "\n",
    "    distances = [i for i in scan[lower_bound:upper_bound] if i > 0]\n",
    "    if len(distances) == 0:\n",
    "        return 0.0\n",
    "    return (sum(distances) / len(distances))\n"
   ]
  },
  {
   "cell_type": "markdown",
   "metadata": {},
   "source": [
    "Let's try it out. Increasing the window angle will decrease noise by including more samples, but will also decrease accuracy by including less relevant samples."
   ]
  },
  {
   "cell_type": "code",
   "execution_count": 89,
   "metadata": {
    "scrolled": false
   },
   "outputs": [
    {
     "name": "stdout",
     "output_type": "stream",
     "text": [
      "Rear distance (6 degree window): 78.33 cm\n"
     ]
    }
   ],
   "source": [
    "WINDOW_ANGLE = 6\n",
    "rear_distance = get_lidar_average_distance(scan, 180, WINDOW_ANGLE)\n",
    "print(f\"Rear distance ({WINDOW_ANGLE} degree window): {rear_distance:.2f} cm\")"
   ]
  },
  {
   "cell_type": "markdown",
   "metadata": {},
   "source": [
    "`get_lidar_average_distance` must handle when the angle window passes over the edge of the array.  For example, with an angle of 0 and a window angle of 6, we must consider all samples in the range 357 to 3 degrees.\n",
    "\n",
    "**<span style=\"color:red\">If you have not done so already, update `get_lidar_average_distance` to support angle windows that cross the edge of the array.</span>**."
   ]
  },
  {
   "cell_type": "code",
   "execution_count": 90,
   "metadata": {},
   "outputs": [
    {
     "name": "stdout",
     "output_type": "stream",
     "text": [
      "Forward distance (6 degree window): 0.00 cm\n"
     ]
    }
   ],
   "source": [
    "forward_distance = get_lidar_average_distance(scan, 0, WINDOW_ANGLE)\n",
    "print(f\"Forward distance ({WINDOW_ANGLE} degree window): {forward_distance:.2f} cm\")"
   ]
  },
  {
   "cell_type": "markdown",
   "metadata": {},
   "source": [
    "Finally, we must handle when there is no data in the specified angle window.  In this case, we should return `0.0`.\n",
    "\n",
    "**<span style=\"color:red\">If you have not done so already, update `get_lidar_average_distance` to return `0.0` when the specified range does not contain any data.</span>**."
   ]
  },
  {
   "cell_type": "code",
   "execution_count": 91,
   "metadata": {},
   "outputs": [
    {
     "name": "stdout",
     "output_type": "stream",
     "text": [
      "Forward distance (6 degree window) in null scan: 0.00 cm\n"
     ]
    }
   ],
   "source": [
    "null_scan = np.zeros(rc.lidar.get_num_samples(), np.float32)\n",
    "forward_distance = get_lidar_average_distance(null_scan, 0, WINDOW_ANGLE)\n",
    "print(f\"Forward distance ({WINDOW_ANGLE} degree window) in null scan: {forward_distance:.2f} cm\")"
   ]
  },
  {
   "cell_type": "markdown",
   "metadata": {},
   "source": [
    "<a id=\"ClosestPoint\"></a>\n",
    "## 5. Closest Point\n",
    "\n",
    "We can use the LIDAR to find the angle of the closest object in 360 degrees around the car.  Just like with the depth image, we should convert null values to a large number so they are not considered for the minimum. An efficient way to do this is to shift down each value by a small amount (such as 0.01 cm) and then mod by a large number (such as 10,000 cm).  This way, 0.0 becomes -0.01, which after modding becomes 9,999.99 cm, a very large distance that will not interfere with the true minimum.\n",
    "\n",
    "```\n",
    "scan = (scan - 0.01) % 10000\n",
    "```\n",
    "\n",
    "In lecture, we saw an example of how to find the angle of the closest point using the Numpy [argmin](https://numpy.org/doc/1.19/reference/generated/numpy.argmin.html) function.\n",
    "\n",
    "```\n",
    "scan = (scan - 0.01) % 10000\n",
    "angle = np.argmin(scan) * 360 / rc.lidar.get_num_samples()\n",
    "```\n",
    "\n",
    "However, we may only wish to consider samples within a particular range, such as samples ranging from 30 to 150 degrees. **<span style=\"color:red\">Implement `get_closest_pixel` to find the angle and distance of the closest point within a specified window in a LIDAR scan</span>**."
   ]
  },
  {
   "cell_type": "code",
   "execution_count": 122,
   "metadata": {},
   "outputs": [],
   "source": [
    "def get_lidar_closest_point(\n",
    "    scan: NDArray[Any, np.float32], window: Tuple[float, float] = (0, 360)\n",
    ") -> Tuple[float, float]:\n",
    "    \"\"\"\n",
    "    Finds the closest point from a LIDAR scan.\n",
    "\n",
    "    Args:\n",
    "        scan: The samples from a LIDAR scan.\n",
    "        window: The degree range to consider, expressed as (min_degree, max_degree)\n",
    "\n",
    "    Returns:\n",
    "        The (angle, distance) of the point closest to the car within the specified\n",
    "        degree window. All angles are in degrees, starting at 0 directly in front of the\n",
    "        car and increasing clockwise. Distance is in cm.\n",
    "\n",
    "    Note:\n",
    "        Ignores any samples with a value of 0.0 (no data).\n",
    "\n",
    "        In order to define a window which passes through the 360-0 degree boundary, it\n",
    "        is acceptable for window min_degree to be larger than window max_degree.  For\n",
    "        example, (350, 10) is a 20 degree window in front of the car.\n",
    "    \"\"\"\n",
    "    # TODO: Return the (angle, distance) of the closest point within the specified window\n",
    "    scan = (scan - 0.01) % 1000\n",
    "    window = [i if i >= 0 else i + 360 for i in window]\n",
    "    window = [i if i <= 360 else i - 360 for i in window]\n",
    "\n",
    "    closest = (window[0], scan[window[0]])\n",
    "    if window[0] < window[1]:\n",
    "        for i in range(window[0] * 2, window[1] * 2):\n",
    "            if scan[i] < closest[1]:\n",
    "                closest = (i, scan[i])\n",
    "    else:\n",
    "        for i in range(window[0] * 2, 720):\n",
    "            if scan[i] < closest[1]:\n",
    "                closest = (i, scan[i])\n",
    "        for i in range(0, (window[1] * 2) + 1):\n",
    "            if scan[i] < closest[1]:\n",
    "                closest = (i, scan[i])\n",
    "    \n",
    "    \n",
    "    \n",
    "    return closest\n",
    "            \n",
    "            "
   ]
  },
  {
   "cell_type": "markdown",
   "metadata": {},
   "source": [
    "Let's use `get_lidar_closest_point` to find the closest point to the right of the car."
   ]
  },
  {
   "cell_type": "code",
   "execution_count": 123,
   "metadata": {},
   "outputs": [
    {
     "name": "stdout",
     "output_type": "stream",
     "text": [
      "Angle: 174.0 degrees\n",
      "Distance: 85.5 cm\n"
     ]
    },
    {
     "data": {
      "image/png": "[encoded data removed]",
      "text/plain": [
       "<Figure size 432x288 with 1 Axes>"
      ]
     },
     "metadata": {
      "needs_background": "light"
     },
     "output_type": "display_data"
    }
   ],
   "source": [
    "angle, distance = get_lidar_closest_point(scan, (30, 150))\n",
    "print(f\"Angle: {angle:.1f} degrees\")\n",
    "print(f\"Distance: {distance:.1f} cm\")\n",
    "\n",
    "show_lidar(scan, highlighted_samples=[(angle, distance)])"
   ]
  },
  {
   "cell_type": "markdown",
   "metadata": {},
   "source": [
    "Once again, we should handle when the specified degree range passes over the edge of our array.  **<span style=\"color:red\">If you have not done so already, update `get_lidar_closest_point` to support negative angles and windows that cross the edge of the array.</span>**."
   ]
  },
  {
   "cell_type": "code",
   "execution_count": 124,
   "metadata": {},
   "outputs": [
    {
     "name": "stdout",
     "output_type": "stream",
     "text": [
      "Angle: 4.0 degrees\n",
      "Distance: 58.3 cm\n"
     ]
    },
    {
     "data": {
      "image/png": "[encoded data removed]",
      "text/plain": [
       "<Figure size 432x288 with 1 Axes>"
      ]
     },
     "metadata": {
      "needs_background": "light"
     },
     "output_type": "display_data"
    }
   ],
   "source": [
    "angle, distance = get_lidar_closest_point(scan, (-30, 30))\n",
    "print(f\"Angle: {angle:.1f} degrees\")\n",
    "print(f\"Distance: {distance:.1f} cm\")\n",
    "\n",
    "show_lidar(scan, highlighted_samples=[(angle, distance)])"
   ]
  },
  {
   "cell_type": "markdown",
   "metadata": {},
   "source": [
    "You are now ready to begin on LIDAR labs `lab4a.py` and `lab4b.py`.  Good luck, and don't be afraid to ask questions!"
   ]
  }
 ],
 "metadata": {
  "kernelspec": {
   "display_name": "bwsi",
   "language": "python",
   "name": "python3"
  },
  "language_info": {
   "codemirror_mode": {
    "name": "ipython",
    "version": 3
   },
   "file_extension": ".py",
   "mimetype": "text/x-python",
   "name": "python",
   "nbconvert_exporter": "python",
   "pygments_lexer": "ipython3",
   "version": "3.9.12"
  },
  "vscode": {
   "interpreter": {
    "hash": "5c795d299dcf7b9f62694ed7de66113ae28fcc8a9abfcda205b83ec4d0702e71"
   }
  }
 },
 "nbformat": 4,
 "nbformat_minor": 4
}
